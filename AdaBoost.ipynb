{
 "cells": [
  {
   "cell_type": "markdown",
   "id": "f074e14f-0af8-457b-937b-78c0e1a03f16",
   "metadata": {},
   "source": [
    "### AdaBoosting"
   ]
  },
  {
   "cell_type": "code",
   "execution_count": 1,
   "id": "aad79ccb-3c02-46bd-9501-5b7ab18c255f",
   "metadata": {},
   "outputs": [],
   "source": [
    "import pandas as pd\n",
    "import numpy as np\n",
    "from sklearn.model_selection import train_test_split, RandomizedSearchCV\n",
    "from sklearn.preprocessing import LabelEncoder, StandardScaler\n",
    "from sklearn.cluster import SpectralClustering\n",
    "from sklearn.metrics import accuracy_score, classification_report, confusion_matrix, mean_squared_error\n",
    "from sklearn.ensemble import AdaBoostClassifier\n",
    "from sklearn.tree import DecisionTreeClassifier\n",
    "from imblearn.over_sampling import SMOTE\n",
    "from scipy.stats import randint, uniform"
   ]
  },
  {
   "cell_type": "code",
   "execution_count": 2,
   "id": "18f386b5-1f90-4a1a-81c8-fab10451cff4",
   "metadata": {},
   "outputs": [],
   "source": [
    "df = pd.read_csv(\"student_sleep_patterns.csv\")\n",
    "\n",
    "# Stratified train-test split\n",
    "train_df, test_df = train_test_split(df, test_size=0.2, random_state=42, stratify=df['Sleep_Quality'])\n"
   ]
  },
  {
   "cell_type": "code",
   "execution_count": 3,
   "id": "f61c5821-0326-45c7-a6cf-06b638ce521e",
   "metadata": {},
   "outputs": [],
   "source": [
    "# Bin Sleep_Quality into 3 categories\n",
    "bins = [df['Sleep_Quality'].min() - 1, 4, 7, df['Sleep_Quality'].max() + 1]\n",
    "labels = [0, 1, 2]  # 0 = Low, 1 = Medium, 2 = High\n",
    "train_df['Sleep_Quality_Category'] = pd.cut(train_df['Sleep_Quality'], bins=bins, labels=labels).astype(int)\n",
    "test_df['Sleep_Quality_Category'] = pd.cut(test_df['Sleep_Quality'], bins=bins, labels=labels).astype(int)\n",
    "\n",
    "# Create binary label: 1 if High sleep quality, 0 otherwise\n",
    "train_df['Sleep_Quality_Binary'] = train_df['Sleep_Quality_Category'].apply(lambda x: 1 if x == 2 else 0)\n",
    "test_df['Sleep_Quality_Binary'] = test_df['Sleep_Quality_Category'].apply(lambda x: 1 if x == 2 else 0)\n"
   ]
  },
  {
   "cell_type": "code",
   "execution_count": 4,
   "id": "1e0612d0-f5f0-41e2-ad45-314b90fd591a",
   "metadata": {},
   "outputs": [],
   "source": [
    "# Drop Student_ID if exists\n",
    "for df_ in [train_df, test_df]:\n",
    "    df_.drop(columns=[col for col in ['Student_ID'] if col in df_.columns], inplace=True)\n"
   ]
  },
  {
   "cell_type": "code",
   "execution_count": 5,
   "id": "1236896d-0b6a-4fb2-a2fa-d78290c35889",
   "metadata": {},
   "outputs": [],
   "source": [
    "# Encode categorical columns\n",
    "cat_cols = train_df.select_dtypes(include='object').columns\n",
    "le_dict = {}\n",
    "for col in cat_cols:\n",
    "    le = LabelEncoder()\n",
    "    train_df[col] = le.fit_transform(train_df[col])\n",
    "    test_df[col] = test_df[col].map(lambda s: le.transform([s])[0] if s in le.classes_ else -1)\n",
    "    le_dict[col] = le"
   ]
  },
  {
   "cell_type": "code",
   "execution_count": 6,
   "id": "f021d1e5-0446-4d7c-a892-9df03146c2f9",
   "metadata": {},
   "outputs": [],
   "source": [
    "# Separate features and target\n",
    "X_train = train_df.drop(columns=['Sleep_Quality', 'Sleep_Quality_Category', 'Sleep_Quality_Binary'])\n",
    "y_train = train_df['Sleep_Quality_Binary']\n",
    "X_test = test_df.drop(columns=['Sleep_Quality', 'Sleep_Quality_Category', 'Sleep_Quality_Binary'])\n",
    "y_test = test_df['Sleep_Quality_Binary']\n"
   ]
  },
  {
   "cell_type": "code",
   "execution_count": 7,
   "id": "97afa5cd-77ce-4a6f-b681-81d8c9ade46f",
   "metadata": {},
   "outputs": [
    {
     "name": "stderr",
     "output_type": "stream",
     "text": [
      "C:\\Users\\HP\\anaconda3\\Lib\\site-packages\\sklearn\\cluster\\_kmeans.py:1429: UserWarning: KMeans is known to have a memory leak on Windows with MKL, when there are less chunks than available threads. You can avoid it by setting the environment variable OMP_NUM_THREADS=2.\n",
      "  warnings.warn(\n"
     ]
    }
   ],
   "source": [
    "# Standardize for clustering\n",
    "scaler = StandardScaler()\n",
    "X_train_scaled = scaler.fit_transform(X_train)\n",
    "X_test_scaled = scaler.transform(X_test)\n",
    "\n",
    "# Spectral Clustering\n",
    "n_clusters = 3\n",
    "spectral = SpectralClustering(n_clusters=n_clusters, affinity='nearest_neighbors', random_state=42)\n",
    "train_clusters = spectral.fit_predict(X_train_scaled)\n",
    "\n",
    "# Use RandomForestClassifier to mimic clustering for test set\n",
    "from sklearn.ensemble import RandomForestClassifier\n",
    "rf_cluster = RandomForestClassifier(random_state=42, n_estimators=100)\n",
    "rf_cluster.fit(X_train, train_clusters)\n",
    "test_clusters = rf_cluster.predict(X_test)\n",
    "\n",
    "# Add cluster as a new feature\n",
    "X_train['Spectral_Cluster'] = train_clusters\n",
    "X_test['Spectral_Cluster'] = test_clusters\n"
   ]
  },
  {
   "cell_type": "code",
   "execution_count": 8,
   "id": "98ad168d-c3ed-4673-bc35-c457379a7a94",
   "metadata": {},
   "outputs": [],
   "source": [
    "# Apply SMOTE to balance binary classes\n",
    "smote = SMOTE(random_state=42)\n",
    "X_train_resampled, y_train_resampled = smote.fit_resample(X_train, y_train)\n"
   ]
  },
  {
   "cell_type": "markdown",
   "id": "777c2c73-2039-4a50-aa1b-0f97810389dc",
   "metadata": {},
   "source": [
    "#### Before Smoting"
   ]
  },
  {
   "cell_type": "code",
   "execution_count": 10,
   "id": "532ba6a8-7a75-4363-b1d0-cffcf3e4f7de",
   "metadata": {},
   "outputs": [
    {
     "name": "stdout",
     "output_type": "stream",
     "text": [
      "Fitting 5 folds for each of 30 candidates, totalling 150 fits\n",
      "Best Hyperparameters: {'learning_rate': 0.06808361216819946, 'n_estimators': 137}\n",
      "\n",
      "Train Accuracy (all features): 0.7100\n",
      "Test Accuracy (all features): 0.7100\n",
      "\n",
      "Best number of features: 1 with Test Accuracy: 0.7100\n",
      "\n",
      "Train Accuracy (best features): 0.7100\n",
      "Test Accuracy (best features): 0.7100\n",
      "\n",
      "Classification Report (Test):\n",
      "              precision    recall  f1-score   support\n",
      "\n",
      "           0       0.71      1.00      0.83        71\n",
      "           1       0.00      0.00      0.00        29\n",
      "\n",
      "    accuracy                           0.71       100\n",
      "   macro avg       0.35      0.50      0.42       100\n",
      "weighted avg       0.50      0.71      0.59       100\n",
      "\n",
      "Confusion Matrix (Test):\n",
      "[[71  0]\n",
      " [29  0]]\n",
      "Train RMSE: 0.5385\n",
      "Test RMSE: 0.5385\n"
     ]
    },
    {
     "name": "stderr",
     "output_type": "stream",
     "text": [
      "C:\\Users\\HP\\anaconda3\\Lib\\site-packages\\sklearn\\metrics\\_classification.py:1531: UndefinedMetricWarning: Precision is ill-defined and being set to 0.0 in labels with no predicted samples. Use `zero_division` parameter to control this behavior.\n",
      "  _warn_prf(average, modifier, f\"{metric.capitalize()} is\", len(result))\n",
      "C:\\Users\\HP\\anaconda3\\Lib\\site-packages\\sklearn\\metrics\\_classification.py:1531: UndefinedMetricWarning: Precision is ill-defined and being set to 0.0 in labels with no predicted samples. Use `zero_division` parameter to control this behavior.\n",
      "  _warn_prf(average, modifier, f\"{metric.capitalize()} is\", len(result))\n",
      "C:\\Users\\HP\\anaconda3\\Lib\\site-packages\\sklearn\\metrics\\_classification.py:1531: UndefinedMetricWarning: Precision is ill-defined and being set to 0.0 in labels with no predicted samples. Use `zero_division` parameter to control this behavior.\n",
      "  _warn_prf(average, modifier, f\"{metric.capitalize()} is\", len(result))\n"
     ]
    }
   ],
   "source": [
    "\n",
    "\n",
    "# AdaBoost setup with DecisionTree base\n",
    "base_tree = DecisionTreeClassifier(max_depth=1)\n",
    "adaboost = AdaBoostClassifier(estimator=base_tree, algorithm='SAMME', random_state=42)\n",
    "\n",
    "param_dist = {\n",
    "    'n_estimators': randint(50, 300),\n",
    "    'learning_rate': uniform(0.01, 1.0)\n",
    "}\n",
    "\n",
    "# RandomizedSearchCV\n",
    "random_search = RandomizedSearchCV(\n",
    "    estimator=adaboost,\n",
    "    param_distributions=param_dist,\n",
    "    n_iter=30,\n",
    "    cv=5,\n",
    "    verbose=2,\n",
    "    random_state=42,\n",
    "    n_jobs=-1,\n",
    "    scoring='accuracy'\n",
    ")\n",
    "random_search.fit(X_train, y_train)\n",
    "\n",
    "# Best model\n",
    "best_ada = random_search.best_estimator_\n",
    "print(f\"Best Hyperparameters: {random_search.best_params_}\")\n",
    "\n",
    "# Predictions on full feature set\n",
    "y_train_pred = best_ada.predict(X_train)\n",
    "y_test_pred = best_ada.predict(X_test)\n",
    "print(f\"\\nTrain Accuracy (all features): {accuracy_score(y_train, y_train_pred):.4f}\")\n",
    "print(f\"Test Accuracy (all features): {accuracy_score(y_test, y_test_pred):.4f}\")\n",
    "\n",
    "# Feature importance\n",
    "importances = best_ada.feature_importances_\n",
    "features = X_train.columns\n",
    "feat_imp_df = pd.DataFrame({'Feature': features, 'Importance': importances}).sort_values(by='Importance', ascending=False)\n",
    "\n",
    "# Test accuracy for different k\n",
    "test_accuracies = []\n",
    "for k in range(1, len(features) + 1):\n",
    "    top_features = feat_imp_df['Feature'].iloc[:k].tolist()\n",
    "    ada_top = AdaBoostClassifier(estimator=DecisionTreeClassifier(max_depth=1),\n",
    "                                 algorithm='SAMME',\n",
    "                                 random_state=42, **random_search.best_params_)\n",
    "    ada_top.fit(X_train[top_features], y_train)\n",
    "    y_test_pred_k = ada_top.predict(X_test[top_features])\n",
    "    acc = accuracy_score(y_test, y_test_pred_k)\n",
    "    test_accuracies.append(acc)\n",
    "\n",
    "best_k = np.argmax(test_accuracies) + 1\n",
    "print(f\"\\nBest number of features: {best_k} with Test Accuracy: {test_accuracies[best_k - 1]:.4f}\")\n",
    "\n",
    "# Final AdaBoost with best_k features\n",
    "best_features = feat_imp_df['Feature'].iloc[:best_k].tolist()\n",
    "final_ada = AdaBoostClassifier(estimator=DecisionTreeClassifier(max_depth=1),\n",
    "                               algorithm='SAMME',\n",
    "                               random_state=42, **random_search.best_params_)\n",
    "final_ada.fit(X_train[best_features], y_train)\n",
    "\n",
    "y_train_pred_best = final_ada.predict(X_train[best_features])\n",
    "y_test_pred_best = final_ada.predict(X_test[best_features])\n",
    "\n",
    "# Evaluation\n",
    "print(f\"\\nTrain Accuracy (best features): {accuracy_score(y_train, y_train_pred_best):.4f}\")\n",
    "print(f\"Test Accuracy (best features): {accuracy_score(y_test, y_test_pred_best):.4f}\")\n",
    "print(\"\\nClassification Report (Test):\")\n",
    "print(classification_report(y_test, y_test_pred_best))\n",
    "print(\"Confusion Matrix (Test):\")\n",
    "print(confusion_matrix(y_test, y_test_pred_best))\n",
    "\n",
    "# RMSE\n",
    "train_rmse = np.sqrt(mean_squared_error(y_train, y_train_pred_best))\n",
    "test_rmse = np.sqrt(mean_squared_error(y_test, y_test_pred_best))\n",
    "print(f\"Train RMSE: {train_rmse:.4f}\")\n",
    "print(f\"Test RMSE: {test_rmse:.4f}\")\n"
   ]
  },
  {
   "cell_type": "markdown",
   "id": "c7e37231-02ec-448b-984c-822d88eaedd0",
   "metadata": {},
   "source": [
    "#### after Smoting "
   ]
  },
  {
   "cell_type": "code",
   "execution_count": 12,
   "id": "f787e95b-5f4a-4a14-bde4-04dc7a26a8b9",
   "metadata": {},
   "outputs": [
    {
     "name": "stdout",
     "output_type": "stream",
     "text": [
      "Fitting 5 folds for each of 30 candidates, totalling 150 fits\n",
      "Best Hyperparameters: {'learning_rate': 0.7180725777960455, 'n_estimators': 199}\n",
      "\n",
      "Train Accuracy (all features): 0.6550\n",
      "Test Accuracy (all features): 0.6000\n",
      "\n",
      "Best number of features: 1 with Test Accuracy: 0.7100\n",
      "\n",
      "Train Accuracy (best features): 0.7300\n",
      "Test Accuracy (best features): 0.7100\n",
      "\n",
      "Classification Report (Test):\n",
      "              precision    recall  f1-score   support\n",
      "\n",
      "           0       0.71      1.00      0.83        71\n",
      "           1       0.00      0.00      0.00        29\n",
      "\n",
      "    accuracy                           0.71       100\n",
      "   macro avg       0.35      0.50      0.42       100\n",
      "weighted avg       0.50      0.71      0.59       100\n",
      "\n",
      "Confusion Matrix (Test):\n",
      "[[71  0]\n",
      " [29  0]]\n",
      "Train RMSE: 0.5196\n",
      "Test RMSE: 0.5385\n"
     ]
    },
    {
     "name": "stderr",
     "output_type": "stream",
     "text": [
      "C:\\Users\\HP\\anaconda3\\Lib\\site-packages\\sklearn\\metrics\\_classification.py:1531: UndefinedMetricWarning: Precision is ill-defined and being set to 0.0 in labels with no predicted samples. Use `zero_division` parameter to control this behavior.\n",
      "  _warn_prf(average, modifier, f\"{metric.capitalize()} is\", len(result))\n",
      "C:\\Users\\HP\\anaconda3\\Lib\\site-packages\\sklearn\\metrics\\_classification.py:1531: UndefinedMetricWarning: Precision is ill-defined and being set to 0.0 in labels with no predicted samples. Use `zero_division` parameter to control this behavior.\n",
      "  _warn_prf(average, modifier, f\"{metric.capitalize()} is\", len(result))\n",
      "C:\\Users\\HP\\anaconda3\\Lib\\site-packages\\sklearn\\metrics\\_classification.py:1531: UndefinedMetricWarning: Precision is ill-defined and being set to 0.0 in labels with no predicted samples. Use `zero_division` parameter to control this behavior.\n",
      "  _warn_prf(average, modifier, f\"{metric.capitalize()} is\", len(result))\n"
     ]
    }
   ],
   "source": [
    "\n",
    "\n",
    "# AdaBoost setup with DecisionTree base\n",
    "base_tree = DecisionTreeClassifier(max_depth=1)\n",
    "adaboost = AdaBoostClassifier(estimator=base_tree, algorithm='SAMME', random_state=42)\n",
    "\n",
    "param_dist = {\n",
    "    'n_estimators': randint(50, 300),\n",
    "    'learning_rate': uniform(0.01, 1.0)\n",
    "}\n",
    "\n",
    "# RandomizedSearchCV\n",
    "random_search = RandomizedSearchCV(\n",
    "    estimator=adaboost,\n",
    "    param_distributions=param_dist,\n",
    "    n_iter=30,\n",
    "    cv=5,\n",
    "    verbose=2,\n",
    "    random_state=42,\n",
    "    n_jobs=-1,\n",
    "    scoring='accuracy'\n",
    ")\n",
    "random_search.fit(X_train_resampled, y_train_resampled)\n",
    "\n",
    "# Best model\n",
    "best_ada = random_search.best_estimator_\n",
    "print(f\"Best Hyperparameters: {random_search.best_params_}\")\n",
    "\n",
    "# Predictions on full feature set\n",
    "y_train_pred = best_ada.predict(X_train)\n",
    "y_test_pred = best_ada.predict(X_test)\n",
    "print(f\"\\nTrain Accuracy (all features): {accuracy_score(y_train, y_train_pred):.4f}\")\n",
    "print(f\"Test Accuracy (all features): {accuracy_score(y_test, y_test_pred):.4f}\")\n",
    "\n",
    "# Feature importance\n",
    "importances = best_ada.feature_importances_\n",
    "features = X_train.columns\n",
    "feat_imp_df = pd.DataFrame({'Feature': features, 'Importance': importances}).sort_values(by='Importance', ascending=False)\n",
    "\n",
    "# Test accuracy for different k\n",
    "test_accuracies = []\n",
    "for k in range(1, len(features) + 1):\n",
    "    top_features = feat_imp_df['Feature'].iloc[:k].tolist()\n",
    "    ada_top = AdaBoostClassifier(estimator=DecisionTreeClassifier(max_depth=1),\n",
    "                                 algorithm='SAMME',\n",
    "                                 random_state=42, **random_search.best_params_)\n",
    "    ada_top.fit(X_train[top_features], y_train)\n",
    "    y_test_pred_k = ada_top.predict(X_test[top_features])\n",
    "    acc = accuracy_score(y_test, y_test_pred_k)\n",
    "    test_accuracies.append(acc)\n",
    "\n",
    "best_k = np.argmax(test_accuracies) + 1\n",
    "print(f\"\\nBest number of features: {best_k} with Test Accuracy: {test_accuracies[best_k - 1]:.4f}\")\n",
    "\n",
    "# Final AdaBoost with best_k features\n",
    "best_features = feat_imp_df['Feature'].iloc[:best_k].tolist()\n",
    "final_ada = AdaBoostClassifier(estimator=DecisionTreeClassifier(max_depth=1),\n",
    "                               algorithm='SAMME',\n",
    "                               random_state=42, **random_search.best_params_)\n",
    "final_ada.fit(X_train[best_features], y_train)\n",
    "\n",
    "y_train_pred_best = final_ada.predict(X_train[best_features])\n",
    "y_test_pred_best = final_ada.predict(X_test[best_features])\n",
    "\n",
    "# Evaluation\n",
    "print(f\"\\nTrain Accuracy (best features): {accuracy_score(y_train, y_train_pred_best):.4f}\")\n",
    "print(f\"Test Accuracy (best features): {accuracy_score(y_test, y_test_pred_best):.4f}\")\n",
    "print(\"\\nClassification Report (Test):\")\n",
    "print(classification_report(y_test, y_test_pred_best))\n",
    "print(\"Confusion Matrix (Test):\")\n",
    "print(confusion_matrix(y_test, y_test_pred_best))\n",
    "\n",
    "# RMSE\n",
    "train_rmse = np.sqrt(mean_squared_error(y_train, y_train_pred_best))\n",
    "test_rmse = np.sqrt(mean_squared_error(y_test, y_test_pred_best))\n",
    "print(f\"Train RMSE: {train_rmse:.4f}\")\n",
    "print(f\"Test RMSE: {test_rmse:.4f}\")\n"
   ]
  },
  {
   "cell_type": "code",
   "execution_count": null,
   "id": "58e36def-dc77-4a20-9a04-e95465dd85b3",
   "metadata": {},
   "outputs": [],
   "source": []
  }
 ],
 "metadata": {
  "kernelspec": {
   "display_name": "Python [conda env:base] *",
   "language": "python",
   "name": "conda-base-py"
  },
  "language_info": {
   "codemirror_mode": {
    "name": "ipython",
    "version": 3
   },
   "file_extension": ".py",
   "mimetype": "text/x-python",
   "name": "python",
   "nbconvert_exporter": "python",
   "pygments_lexer": "ipython3",
   "version": "3.12.3"
  }
 },
 "nbformat": 4,
 "nbformat_minor": 5
}
